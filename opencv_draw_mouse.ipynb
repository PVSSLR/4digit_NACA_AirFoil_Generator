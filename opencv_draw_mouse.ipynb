{
  "nbformat": 4,
  "nbformat_minor": 0,
  "metadata": {
    "colab": {
      "name": "opencv_draw_mouse.ipynb",
      "provenance": [],
      "authorship_tag": "ABX9TyNazt8HJsiA3ml27b0jJcKo",
      "include_colab_link": true
    },
    "kernelspec": {
      "name": "python3",
      "display_name": "Python 3"
    }
  },
  "cells": [
    {
      "cell_type": "markdown",
      "metadata": {
        "id": "view-in-github",
        "colab_type": "text"
      },
      "source": [
        "<a href=\"https://colab.research.google.com/github/PVSSLR/4digit_NACA_AirFoil_Generator/blob/master/opencv_draw_mouse.ipynb\" target=\"_parent\"><img src=\"https://colab.research.google.com/assets/colab-badge.svg\" alt=\"Open In Colab\"/></a>"
      ]
    },
    {
      "cell_type": "code",
      "metadata": {
        "id": "Cm9Q7w8EuhXG",
        "colab_type": "code",
        "colab": {}
      },
      "source": [
        "import cv2 \n",
        "import numpy as np \n",
        "import matplotlib.pyplot as plt \n",
        "##########Function \n",
        "def draw_circle(event,x,y,flags,param):\n",
        "    if event == cv2.EVENT_LBUTTONDOWN:\n",
        "       cv2.circle(img,(x,y),100,(0,255,0),1)\n",
        "cv2.namedWindow(winname='my_drawing')\n",
        "cv2.setMouseCallback('my_drawing',draw_circle)    \n",
        "##############showing images using opencv\n",
        "\n",
        "img = np.zeros((512,512,3))\n",
        "while True:\n",
        "    cv2.imshow('my_drawing',img)\n",
        "    \n",
        "    if cv2.waitKey(20) & 0xFF == 27:\n",
        "        break \n",
        "    \n",
        "cv2.destroyAllWindows()    \n",
        "   "
      ],
      "execution_count": 0,
      "outputs": []
    },
    {
      "cell_type": "code",
      "metadata": {
        "id": "L2_p-AmawYiD",
        "colab_type": "code",
        "colab": {}
      },
      "source": [
        ""
      ],
      "execution_count": 0,
      "outputs": []
    }
  ]
}